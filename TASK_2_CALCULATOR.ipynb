{
 "cells": [
  {
   "cell_type": "code",
   "execution_count": 1,
   "id": "e1223f38",
   "metadata": {},
   "outputs": [
    {
     "name": "stdout",
     "output_type": "stream",
     "text": [
      "Enter the first number: 8\n",
      "Enter the second number: 10\n",
      "Choose the operation:\n",
      "1. Addition (+)\n",
      "2. Subtraction (-)\n",
      "3. Multiplication (*)\n",
      "4. Division (/)\n",
      "Enter the operation (1/2/3/4): 3\n",
      "The result of 8.0 * 10.0 is: 80.0\n"
     ]
    }
   ],
   "source": [
    "def calculator():\n",
    "    # Prompt the user to enter the first number\n",
    "    num1 = float(input(\"Enter the first number: \"))\n",
    "    \n",
    "    # Prompt the user to enter the second number\n",
    "    num2 = float(input(\"Enter the second number: \"))\n",
    "    \n",
    "    # Prompt the user to choose an operation\n",
    "    print(\"Choose the operation:\")\n",
    "    print(\"1. Addition (+)\")\n",
    "    print(\"2. Subtraction (-)\")\n",
    "    print(\"3. Multiplication (*)\")\n",
    "    print(\"4. Division (/)\")\n",
    "    operation = input(\"Enter the operation (1/2/3/4): \")\n",
    "    \n",
    "    # Perform the calculation based on the chosen operation\n",
    "    if operation == '1':\n",
    "        result = num1 + num2\n",
    "        print(f\"The result of {num1} + {num2} is: {result}\")\n",
    "    elif operation == '2':\n",
    "        result = num1 - num2\n",
    "        print(f\"The result of {num1} - {num2} is: {result}\")\n",
    "    elif operation == '3':\n",
    "        result = num1 * num2\n",
    "        print(f\"The result of {num1} * {num2} is: {result}\")\n",
    "    elif operation == '4':\n",
    "        if num2 != 0:\n",
    "            result = num1 / num2\n",
    "            print(f\"The result of {num1} / {num2} is: {result}\")\n",
    "        else:\n",
    "            print(\"Error: Division by zero is not allowed.\")\n",
    "    else:\n",
    "        print(\"Invalid operation choice. Please choose 1, 2, 3, or 4.\")\n",
    "\n",
    "# Run the calculator function\n",
    "calculator()"
   ]
  }
 ],
 "metadata": {
  "kernelspec": {
   "display_name": "Python 3 (ipykernel)",
   "language": "python",
   "name": "python3"
  },
  "language_info": {
   "codemirror_mode": {
    "name": "ipython",
    "version": 3
   },
   "file_extension": ".py",
   "mimetype": "text/x-python",
   "name": "python",
   "nbconvert_exporter": "python",
   "pygments_lexer": "ipython3",
   "version": "3.11.4"
  }
 },
 "nbformat": 4,
 "nbformat_minor": 5
}
