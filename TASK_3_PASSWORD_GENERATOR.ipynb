{
 "cells": [
  {
   "cell_type": "code",
   "execution_count": 1,
   "id": "dc2ef25a",
   "metadata": {},
   "outputs": [
    {
     "name": "stdout",
     "output_type": "stream",
     "text": [
      "Enter the desired length of the password: 5\n",
      "Generated password: rk!+Q\n"
     ]
    }
   ],
   "source": [
    "import random\n",
    "import string\n",
    "\n",
    "def generate_password(length):\n",
    "    # Define the characters to be used in the password\n",
    "    characters = string.ascii_letters + string.digits + string.punctuation\n",
    "    \n",
    "    # Generate a random password\n",
    "    password = ''.join(random.choice(characters) for _ in range(length))\n",
    "    \n",
    "    return password\n",
    "\n",
    "def main():\n",
    "    # Prompt the user to specify the desired length of the password\n",
    "    try:\n",
    "        length = int(input(\"Enter the desired length of the password: \"))\n",
    "        if length <= 0:\n",
    "            print(\"Please enter a positive number.\")\n",
    "            return\n",
    "    except ValueError:\n",
    "        print(\"Please enter a valid number.\")\n",
    "        return\n",
    "\n",
    "    # Generate the password\n",
    "    password = generate_password(length)\n",
    "    \n",
    "    # Display the password\n",
    "    print(f\"Generated password: {password}\")\n",
    "\n",
    "if __name__ == \"__main__\":\n",
    "    main()"
   ]
  }
 ],
 "metadata": {
  "kernelspec": {
   "display_name": "Python 3 (ipykernel)",
   "language": "python",
   "name": "python3"
  },
  "language_info": {
   "codemirror_mode": {
    "name": "ipython",
    "version": 3
   },
   "file_extension": ".py",
   "mimetype": "text/x-python",
   "name": "python",
   "nbconvert_exporter": "python",
   "pygments_lexer": "ipython3",
   "version": "3.11.4"
  }
 },
 "nbformat": 4,
 "nbformat_minor": 5
}
